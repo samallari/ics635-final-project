{
 "cells": [
  {
   "cell_type": "code",
   "id": "initial_id",
   "metadata": {
    "collapsed": true,
    "ExecuteTime": {
     "end_time": "2025-04-24T02:30:12.713119Z",
     "start_time": "2025-04-24T02:30:12.682513Z"
    }
   },
   "source": [
    "import os, pickle\n",
    "import numpy as np\n",
    "import matplotlib.pyplot as plt\n",
    "from shapely.geometry import Polygon\n",
    "from math import sin, cos, acos, radians\n",
    "\n",
    "import tensorflow as tf\n",
    "import keras\n",
    "from keras import layers\n"
   ],
   "outputs": [],
   "execution_count": 22
  },
  {
   "metadata": {},
   "cell_type": "markdown",
   "source": "# Paths",
   "id": "75da8fd42e6cbcb0"
  },
  {
   "metadata": {
    "ExecuteTime": {
     "end_time": "2025-04-23T07:47:02.196062Z",
     "start_time": "2025-04-23T07:47:02.188368Z"
    }
   },
   "cell_type": "code",
   "source": [
    "DATA_DIR = \"../DataCollection\"\n",
    "DATACOMBINED = os.path.join(DATA_DIR, \"data/dataCombined\")\n",
    "POLY_PATH = os.path.join(DATA_DIR, \"usaPolygonGrid.pkl\")\n",
    "TRAIN_PATH = os.path.join(DATA_DIR, \"trainData.npy\")\n",
    "TEST_PATH = os.path.join(DATA_DIR, \"testData.npy\")"
   ],
   "id": "f0bdf49eb05ddefb",
   "outputs": [],
   "execution_count": 6
  },
  {
   "metadata": {},
   "cell_type": "markdown",
   "source": [
    "# Data Inspection\n",
    "\n"
   ],
   "id": "1824dd4681576cd3"
  },
  {
   "metadata": {
    "ExecuteTime": {
     "end_time": "2025-04-23T07:47:04.210737Z",
     "start_time": "2025-04-23T07:47:04.201906Z"
    }
   },
   "cell_type": "code",
   "source": [
    "# Load files\n",
    "trainFiles = np.load(TRAIN_PATH)\n",
    "testFiles = np.load(TEST_PATH)\n",
    "usaPolygonGrid = pickle.load(open(POLY_PATH, 'rb'))"
   ],
   "id": "4ab6732c8870a54e",
   "outputs": [],
   "execution_count": 7
  },
  {
   "metadata": {
    "ExecuteTime": {
     "end_time": "2025-04-23T19:52:11.946279Z",
     "start_time": "2025-04-23T19:52:11.939944Z"
    }
   },
   "cell_type": "code",
   "source": [
    "print(f\"Train samples: {len(trainFiles)}\")\n",
    "print(f\"Test samples: {len(testFiles)}\")"
   ],
   "id": "6610e59040b1c458",
   "outputs": [
    {
     "name": "stdout",
     "output_type": "stream",
     "text": [
      "Train samples: 4420\n",
      "Test samples: 492\n"
     ]
    }
   ],
   "execution_count": 19
  },
  {
   "metadata": {},
   "cell_type": "markdown",
   "source": [
    "# Defining Model\n",
    "\n",
    "At its core, the model employs a CNN to extract features and then a LSTM to learn the temporal relationships between the triplet images. A TimeDistributed wrapper is used to apply the CNN to each image in the triplet independently. By default, ResNet is used as the CNN backbone, with the option to build the CNN from scratch. The use of ResNet is strictly for performance reasons, as it is a well-known architecture that has been shown to work well for image classification tasks."
   ],
   "id": "8f9b9acc707265ee"
  },
  {
   "metadata": {
    "ExecuteTime": {
     "end_time": "2025-04-23T07:54:19.884396Z",
     "start_time": "2025-04-23T07:54:19.873670Z"
    }
   },
   "cell_type": "code",
   "source": [
    "def build_model(useResnet=True, inputShape=(3, 300, 600, 3), gridCount=246):\n",
    "    if useResnet:\n",
    "        base = keras.applications.ResNet50(include_top=False, weights='imagenet', input_shape=inputShape[1:])\n",
    "        base.trainable = False\n",
    "        cnn = keras.Sequential([base, layers.GlobalMaxPooling2D()])\n",
    "    else:\n",
    "        cnn = keras.Sequential([\n",
    "            layers.Conv2D(64, (3,3), padding='same', activation='relu', input_shape=inputShape[1:]),\n",
    "            layers.MaxPool2D(), layers.BatchNormalization(),\n",
    "            layers.Conv2D(128, (3,3), padding='same', activation='relu'),\n",
    "            layers.GlobalMaxPooling2D()\n",
    "        ])\n",
    "    model = keras.Sequential([\n",
    "        layers.TimeDistributed(cnn, input_shape=inputShape),\n",
    "        layers.LSTM(64),\n",
    "        layers.Dense(128, activation='relu'), layers.Dropout(0.5),\n",
    "        layers.Dense(64, activation='relu'),\n",
    "        layers.Dense(gridCount, activation='softmax')\n",
    "    ])\n",
    "    model.compile(optimizer='adam', loss='categorical_crossentropy', metrics=['categorical_accuracy'])\n",
    "    model.summary()\n",
    "    return model\n"
   ],
   "id": "da6915541bcb8f3c",
   "outputs": [],
   "execution_count": 13
  },
  {
   "metadata": {},
   "cell_type": "markdown",
   "source": [
    "# Data Preparation\n",
    "\n",
    "The numpy arrays from the previous notebook are not in the correct format for training. The following functions below will load the triplet images and prepare them for training. The triplet images are stored in folders named with a grid ID and latitude/longitude coordinates, e.g., \"0+lat,lon/\". Each folder contains three images."
   ],
   "id": "ba2929b3ec2028a2"
  },
  {
   "metadata": {
    "ExecuteTime": {
     "end_time": "2025-04-23T07:54:56.201224Z",
     "start_time": "2025-04-23T07:54:56.196861Z"
    }
   },
   "cell_type": "code",
   "source": [
    "def read_triplet_data(fileNames, dataDir, gridCount):\n",
    "    inputShape = (300, 600)\n",
    "    X, y = [], []\n",
    "    for name in fileNames:\n",
    "        folder = os.path.join(dataDir, name)\n",
    "        imgs = [np.array(tf.keras.utils.load_img(os.path.join(folder, img), target_size=inputShape))\n",
    "                for img in sorted(os.listdir(folder))]\n",
    "        X.append(imgs)\n",
    "        grid = int(name.split('+')[0])\n",
    "        y.append(grid)\n",
    "    X = np.array(X)\n",
    "    y = keras.utils.to_categorical(y, num_classes=gridCount)\n",
    "    return X, y"
   ],
   "id": "6ded5bac1cdf696b",
   "outputs": [],
   "execution_count": 14
  },
  {
   "metadata": {},
   "cell_type": "markdown",
   "source": [
    "# Training\n",
    "\n",
    "It takes roughly 3 hours to train the model on a MacBook Pro M1. Thus for this model, hyperparameters were kept modest. Additional hyperparameter tuning was done on Google Colab to see if better-performing models could be built."
   ],
   "id": "c915184b6fb6b79c"
  },
  {
   "metadata": {
    "ExecuteTime": {
     "end_time": "2025-04-23T13:49:38.683951Z",
     "start_time": "2025-04-23T10:44:27.489390Z"
    }
   },
   "cell_type": "code",
   "source": [
    "model = build_model(useResnet=True)\n",
    "X_train, y_train = read_triplet_data(trainFiles, DATACOMBINED, gridCount=246)\n",
    "\n",
    "history = model.fit(X_train, y_train, epochs=10, batch_size=4)\n",
    "\n",
    "plt.plot(history.history['categorical_accuracy'])\n",
    "plt.title(\"Training Accuracy\")\n",
    "plt.show()\n",
    "\n",
    "plt.plot(history.history['loss'])\n",
    "plt.title(\"Training Loss\")\n",
    "plt.show()"
   ],
   "id": "d17b86433ee72805",
   "outputs": [
    {
     "data": {
      "text/plain": [
       "\u001B[1mModel: \"sequential_5\"\u001B[0m\n"
      ],
      "text/html": [
       "<pre style=\"white-space:pre;overflow-x:auto;line-height:normal;font-family:Menlo,'DejaVu Sans Mono',consolas,'Courier New',monospace\"><span style=\"font-weight: bold\">Model: \"sequential_5\"</span>\n",
       "</pre>\n"
      ]
     },
     "metadata": {},
     "output_type": "display_data"
    },
    {
     "data": {
      "text/plain": [
       "┏━━━━━━━━━━━━━━━━━━━━━━━━━━━━━━━━━┳━━━━━━━━━━━━━━━━━━━━━━━━┳━━━━━━━━━━━━━━━┓\n",
       "┃\u001B[1m \u001B[0m\u001B[1mLayer (type)                   \u001B[0m\u001B[1m \u001B[0m┃\u001B[1m \u001B[0m\u001B[1mOutput Shape          \u001B[0m\u001B[1m \u001B[0m┃\u001B[1m \u001B[0m\u001B[1m      Param #\u001B[0m\u001B[1m \u001B[0m┃\n",
       "┡━━━━━━━━━━━━━━━━━━━━━━━━━━━━━━━━━╇━━━━━━━━━━━━━━━━━━━━━━━━╇━━━━━━━━━━━━━━━┩\n",
       "│ time_distributed_2              │ (\u001B[38;5;45mNone\u001B[0m, \u001B[38;5;34m3\u001B[0m, \u001B[38;5;34m2048\u001B[0m)        │    \u001B[38;5;34m23,587,712\u001B[0m │\n",
       "│ (\u001B[38;5;33mTimeDistributed\u001B[0m)               │                        │               │\n",
       "├─────────────────────────────────┼────────────────────────┼───────────────┤\n",
       "│ lstm_2 (\u001B[38;5;33mLSTM\u001B[0m)                   │ (\u001B[38;5;45mNone\u001B[0m, \u001B[38;5;34m64\u001B[0m)             │       \u001B[38;5;34m540,928\u001B[0m │\n",
       "├─────────────────────────────────┼────────────────────────┼───────────────┤\n",
       "│ dense_6 (\u001B[38;5;33mDense\u001B[0m)                 │ (\u001B[38;5;45mNone\u001B[0m, \u001B[38;5;34m128\u001B[0m)            │         \u001B[38;5;34m8,320\u001B[0m │\n",
       "├─────────────────────────────────┼────────────────────────┼───────────────┤\n",
       "│ dropout_2 (\u001B[38;5;33mDropout\u001B[0m)             │ (\u001B[38;5;45mNone\u001B[0m, \u001B[38;5;34m128\u001B[0m)            │             \u001B[38;5;34m0\u001B[0m │\n",
       "├─────────────────────────────────┼────────────────────────┼───────────────┤\n",
       "│ dense_7 (\u001B[38;5;33mDense\u001B[0m)                 │ (\u001B[38;5;45mNone\u001B[0m, \u001B[38;5;34m64\u001B[0m)             │         \u001B[38;5;34m8,256\u001B[0m │\n",
       "├─────────────────────────────────┼────────────────────────┼───────────────┤\n",
       "│ dense_8 (\u001B[38;5;33mDense\u001B[0m)                 │ (\u001B[38;5;45mNone\u001B[0m, \u001B[38;5;34m246\u001B[0m)            │        \u001B[38;5;34m15,990\u001B[0m │\n",
       "└─────────────────────────────────┴────────────────────────┴───────────────┘\n"
      ],
      "text/html": [
       "<pre style=\"white-space:pre;overflow-x:auto;line-height:normal;font-family:Menlo,'DejaVu Sans Mono',consolas,'Courier New',monospace\">┏━━━━━━━━━━━━━━━━━━━━━━━━━━━━━━━━━┳━━━━━━━━━━━━━━━━━━━━━━━━┳━━━━━━━━━━━━━━━┓\n",
       "┃<span style=\"font-weight: bold\"> Layer (type)                    </span>┃<span style=\"font-weight: bold\"> Output Shape           </span>┃<span style=\"font-weight: bold\">       Param # </span>┃\n",
       "┡━━━━━━━━━━━━━━━━━━━━━━━━━━━━━━━━━╇━━━━━━━━━━━━━━━━━━━━━━━━╇━━━━━━━━━━━━━━━┩\n",
       "│ time_distributed_2              │ (<span style=\"color: #00d7ff; text-decoration-color: #00d7ff\">None</span>, <span style=\"color: #00af00; text-decoration-color: #00af00\">3</span>, <span style=\"color: #00af00; text-decoration-color: #00af00\">2048</span>)        │    <span style=\"color: #00af00; text-decoration-color: #00af00\">23,587,712</span> │\n",
       "│ (<span style=\"color: #0087ff; text-decoration-color: #0087ff\">TimeDistributed</span>)               │                        │               │\n",
       "├─────────────────────────────────┼────────────────────────┼───────────────┤\n",
       "│ lstm_2 (<span style=\"color: #0087ff; text-decoration-color: #0087ff\">LSTM</span>)                   │ (<span style=\"color: #00d7ff; text-decoration-color: #00d7ff\">None</span>, <span style=\"color: #00af00; text-decoration-color: #00af00\">64</span>)             │       <span style=\"color: #00af00; text-decoration-color: #00af00\">540,928</span> │\n",
       "├─────────────────────────────────┼────────────────────────┼───────────────┤\n",
       "│ dense_6 (<span style=\"color: #0087ff; text-decoration-color: #0087ff\">Dense</span>)                 │ (<span style=\"color: #00d7ff; text-decoration-color: #00d7ff\">None</span>, <span style=\"color: #00af00; text-decoration-color: #00af00\">128</span>)            │         <span style=\"color: #00af00; text-decoration-color: #00af00\">8,320</span> │\n",
       "├─────────────────────────────────┼────────────────────────┼───────────────┤\n",
       "│ dropout_2 (<span style=\"color: #0087ff; text-decoration-color: #0087ff\">Dropout</span>)             │ (<span style=\"color: #00d7ff; text-decoration-color: #00d7ff\">None</span>, <span style=\"color: #00af00; text-decoration-color: #00af00\">128</span>)            │             <span style=\"color: #00af00; text-decoration-color: #00af00\">0</span> │\n",
       "├─────────────────────────────────┼────────────────────────┼───────────────┤\n",
       "│ dense_7 (<span style=\"color: #0087ff; text-decoration-color: #0087ff\">Dense</span>)                 │ (<span style=\"color: #00d7ff; text-decoration-color: #00d7ff\">None</span>, <span style=\"color: #00af00; text-decoration-color: #00af00\">64</span>)             │         <span style=\"color: #00af00; text-decoration-color: #00af00\">8,256</span> │\n",
       "├─────────────────────────────────┼────────────────────────┼───────────────┤\n",
       "│ dense_8 (<span style=\"color: #0087ff; text-decoration-color: #0087ff\">Dense</span>)                 │ (<span style=\"color: #00d7ff; text-decoration-color: #00d7ff\">None</span>, <span style=\"color: #00af00; text-decoration-color: #00af00\">246</span>)            │        <span style=\"color: #00af00; text-decoration-color: #00af00\">15,990</span> │\n",
       "└─────────────────────────────────┴────────────────────────┴───────────────┘\n",
       "</pre>\n"
      ]
     },
     "metadata": {},
     "output_type": "display_data"
    },
    {
     "data": {
      "text/plain": [
       "\u001B[1m Total params: \u001B[0m\u001B[38;5;34m24,161,206\u001B[0m (92.17 MB)\n"
      ],
      "text/html": [
       "<pre style=\"white-space:pre;overflow-x:auto;line-height:normal;font-family:Menlo,'DejaVu Sans Mono',consolas,'Courier New',monospace\"><span style=\"font-weight: bold\"> Total params: </span><span style=\"color: #00af00; text-decoration-color: #00af00\">24,161,206</span> (92.17 MB)\n",
       "</pre>\n"
      ]
     },
     "metadata": {},
     "output_type": "display_data"
    },
    {
     "data": {
      "text/plain": [
       "\u001B[1m Trainable params: \u001B[0m\u001B[38;5;34m573,494\u001B[0m (2.19 MB)\n"
      ],
      "text/html": [
       "<pre style=\"white-space:pre;overflow-x:auto;line-height:normal;font-family:Menlo,'DejaVu Sans Mono',consolas,'Courier New',monospace\"><span style=\"font-weight: bold\"> Trainable params: </span><span style=\"color: #00af00; text-decoration-color: #00af00\">573,494</span> (2.19 MB)\n",
       "</pre>\n"
      ]
     },
     "metadata": {},
     "output_type": "display_data"
    },
    {
     "data": {
      "text/plain": [
       "\u001B[1m Non-trainable params: \u001B[0m\u001B[38;5;34m23,587,712\u001B[0m (89.98 MB)\n"
      ],
      "text/html": [
       "<pre style=\"white-space:pre;overflow-x:auto;line-height:normal;font-family:Menlo,'DejaVu Sans Mono',consolas,'Courier New',monospace\"><span style=\"font-weight: bold\"> Non-trainable params: </span><span style=\"color: #00af00; text-decoration-color: #00af00\">23,587,712</span> (89.98 MB)\n",
       "</pre>\n"
      ]
     },
     "metadata": {},
     "output_type": "display_data"
    },
    {
     "name": "stdout",
     "output_type": "stream",
     "text": [
      "Epoch 1/10\n",
      "\u001B[1m1105/1105\u001B[0m \u001B[32m━━━━━━━━━━━━━━━━━━━━\u001B[0m\u001B[37m\u001B[0m \u001B[1m1050s\u001B[0m 943ms/step - categorical_accuracy: 0.0042 - loss: 5.5251\n",
      "Epoch 2/10\n",
      "\u001B[1m1105/1105\u001B[0m \u001B[32m━━━━━━━━━━━━━━━━━━━━\u001B[0m\u001B[37m\u001B[0m \u001B[1m1063s\u001B[0m 962ms/step - categorical_accuracy: 0.0040 - loss: 5.5083\n",
      "Epoch 3/10\n",
      "\u001B[1m1105/1105\u001B[0m \u001B[32m━━━━━━━━━━━━━━━━━━━━\u001B[0m\u001B[37m\u001B[0m \u001B[1m1100s\u001B[0m 995ms/step - categorical_accuracy: 0.0063 - loss: 5.5052\n",
      "Epoch 4/10\n",
      "\u001B[1m1105/1105\u001B[0m \u001B[32m━━━━━━━━━━━━━━━━━━━━\u001B[0m\u001B[37m\u001B[0m \u001B[1m1151s\u001B[0m 1s/step - categorical_accuracy: 0.0040 - loss: 5.5045\n",
      "Epoch 5/10\n",
      "\u001B[1m1105/1105\u001B[0m \u001B[32m━━━━━━━━━━━━━━━━━━━━\u001B[0m\u001B[37m\u001B[0m \u001B[1m1080s\u001B[0m 978ms/step - categorical_accuracy: 0.0049 - loss: 5.5053\n",
      "Epoch 6/10\n",
      "\u001B[1m1105/1105\u001B[0m \u001B[32m━━━━━━━━━━━━━━━━━━━━\u001B[0m\u001B[37m\u001B[0m \u001B[1m1142s\u001B[0m 1s/step - categorical_accuracy: 0.0042 - loss: 5.5047\n",
      "Epoch 7/10\n",
      "\u001B[1m1105/1105\u001B[0m \u001B[32m━━━━━━━━━━━━━━━━━━━━\u001B[0m\u001B[37m\u001B[0m \u001B[1m1109s\u001B[0m 1s/step - categorical_accuracy: 0.0055 - loss: 5.5035\n",
      "Epoch 8/10\n",
      "\u001B[1m1105/1105\u001B[0m \u001B[32m━━━━━━━━━━━━━━━━━━━━\u001B[0m\u001B[37m\u001B[0m \u001B[1m1124s\u001B[0m 1s/step - categorical_accuracy: 0.0036 - loss: 5.5032\n",
      "Epoch 9/10\n",
      "\u001B[1m1105/1105\u001B[0m \u001B[32m━━━━━━━━━━━━━━━━━━━━\u001B[0m\u001B[37m\u001B[0m \u001B[1m1110s\u001B[0m 1s/step - categorical_accuracy: 0.0057 - loss: 5.5041\n",
      "Epoch 10/10\n",
      "\u001B[1m1105/1105\u001B[0m \u001B[32m━━━━━━━━━━━━━━━━━━━━\u001B[0m\u001B[37m\u001B[0m \u001B[1m1103s\u001B[0m 998ms/step - categorical_accuracy: 0.0047 - loss: 5.5029\n"
     ]
    },
    {
     "data": {
      "text/plain": [
       "<Figure size 640x480 with 1 Axes>"
      ],
      "image/png": "[encoded data removed]"
     },
     "metadata": {},
     "output_type": "display_data"
    },
    {
     "data": {
      "text/plain": [
       "<Figure size 640x480 with 1 Axes>"
      ],
      "image/png": "[encoded data removed]"
     },
     "metadata": {},
     "output_type": "display_data"
    }
   ],
   "execution_count": 17
  },
  {
   "metadata": {},
   "cell_type": "markdown",
   "source": [
    "# Evaluation\n",
    "\n",
    "The model is evaluated using the average distance error between the predicted and true grid centroids. The centroid distance is calculated using the spherical cosine formula, which accounts for the curvature of the Earth. The average distance error is then reported in miles."
   ],
   "id": "d12a593d86bd9ac2"
  },
  {
   "metadata": {
    "ExecuteTime": {
     "end_time": "2025-04-24T02:33:12.379878Z",
     "start_time": "2025-04-24T02:30:48.760587Z"
    }
   },
   "cell_type": "code",
   "source": [
    "def spherical_cosine(lat1, lon1, lat2, lon2):\n",
    "    R = 3958.8  # Earth's radius in miles\n",
    "    lat1, lon1, lat2, lon2 = map(radians, [lat1, lon1, lat2, lon2])\n",
    "    return R * acos(sin(lat1)*sin(lat2) + cos(lat1)*cos(lat2)*cos(lon2 - lon1))\n",
    "\n",
    "def centroid_distance(p1, p2):\n",
    "    c1, c2 = Polygon(p1).centroid, Polygon(p2).centroid\n",
    "    return spherical_cosine(c1.y, c1.x, c2.y, c2.x)\n",
    "\n",
    "def evaluate_model(model, testFiles, polyGrid, dataDir):\n",
    "    total = 0\n",
    "    X_test, y_test = read_triplet_data(testFiles, dataDir, gridCount=246)\n",
    "    preds = model.predict(X_test)\n",
    "    for i in range(len(preds)):\n",
    "        true_idx = np.argmax(y_test[i])\n",
    "        pred_idx = np.argmax(preds[i])\n",
    "        total += centroid_distance(polyGrid[true_idx], polyGrid[pred_idx])\n",
    "    return total / len(preds)\n",
    "\n",
    "avg_dist = evaluate_model(model, testFiles, usaPolygonGrid, DATACOMBINED)\n",
    "print(f\"Average Distance Error: {avg_dist:.2f} miles\")\n"
   ],
   "id": "2bedc33c3d157e0e",
   "outputs": [
    {
     "name": "stdout",
     "output_type": "stream",
     "text": [
      "\u001B[1m16/16\u001B[0m \u001B[32m━━━━━━━━━━━━━━━━━━━━\u001B[0m\u001B[37m\u001B[0m \u001B[1m140s\u001B[0m 9s/step\n",
      "Average Distance Error: 1630.69 miles\n"
     ]
    }
   ],
   "execution_count": 23
  }
 ],
 "metadata": {
  "kernelspec": {
   "display_name": "Python 3",
   "language": "python",
   "name": "python3"
  },
  "language_info": {
   "codemirror_mode": {
    "name": "ipython",
    "version": 2
   },
   "file_extension": ".py",
   "mimetype": "text/x-python",
   "name": "python",
   "nbconvert_exporter": "python",
   "pygments_lexer": "ipython2",
   "version": "2.7.6"
  }
 },
 "nbformat": 4,
 "nbformat_minor": 5
}
